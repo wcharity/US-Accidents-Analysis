{
 "cells": [
  {
   "cell_type": "markdown",
   "id": "adebca54",
   "metadata": {},
   "source": [
    "## USA Accidents Exploratory Data Analysis-countrywide car accident dataset, which covers 49 states of the USA from February 2016 to Dec 2021"
   ]
  },
  {
   "cell_type": "markdown",
   "id": "bc2a62fa",
   "metadata": {},
   "source": [
    "#### Inspiration\n",
    "Can be used to study car accidents hotspot locations, casualty analysis and extracting cause and effect rules to predict car accidents, and studying the impact of precipitation or other environmental stimuli on accident occurrence"
   ]
  },
  {
   "cell_type": "markdown",
   "id": "bc6790f5",
   "metadata": {},
   "source": [
    "##### Questions\n",
    "Questions:\n",
    "- Which city in US has reported the most number of accident cases?\n",
    "- Which 5 states reported the highest number of accident cases?How about per capita?\n",
    "- Which timezone reported the most number of accident cases?\n",
    "- Which street is most accident prone in US?\n",
    "- What time of the day are accidents most frequent in?\n",
    "- Which days of the week have the most accidents?\n",
    "- Which months have the most accidents?\n",
    "- What is the trend of accidents year over year (decreasing/increasing?)\n",
    "- Effects of road condition on the accident cases.\n",
    "- How did the weather conditions affected the cases?Are there more accidents inn warmer or colder areas?"
   ]
  },
  {
   "cell_type": "code",
   "execution_count": 1,
   "id": "55634ef7",
   "metadata": {},
   "outputs": [],
   "source": [
    "import pandas as pd\n",
    "import numpy as np\n",
    "import seaborn as sns\n",
    "import matplotlib.pyplot as plt\n",
    "%matplotlib inline"
   ]
  },
  {
   "cell_type": "code",
   "execution_count": 2,
   "id": "227572c1",
   "metadata": {},
   "outputs": [
    {
     "data": {
      "text/html": [
       "<div>\n",
       "<style scoped>\n",
       "    .dataframe tbody tr th:only-of-type {\n",
       "        vertical-align: middle;\n",
       "    }\n",
       "\n",
       "    .dataframe tbody tr th {\n",
       "        vertical-align: top;\n",
       "    }\n",
       "\n",
       "    .dataframe thead th {\n",
       "        text-align: right;\n",
       "    }\n",
       "</style>\n",
       "<table border=\"1\" class=\"dataframe\">\n",
       "  <thead>\n",
       "    <tr style=\"text-align: right;\">\n",
       "      <th></th>\n",
       "      <th>ID</th>\n",
       "      <th>Severity</th>\n",
       "      <th>Start_Time</th>\n",
       "      <th>End_Time</th>\n",
       "      <th>Start_Lat</th>\n",
       "      <th>Start_Lng</th>\n",
       "      <th>End_Lat</th>\n",
       "      <th>End_Lng</th>\n",
       "      <th>Distance(mi)</th>\n",
       "      <th>Description</th>\n",
       "      <th>...</th>\n",
       "      <th>Roundabout</th>\n",
       "      <th>Station</th>\n",
       "      <th>Stop</th>\n",
       "      <th>Traffic_Calming</th>\n",
       "      <th>Traffic_Signal</th>\n",
       "      <th>Turning_Loop</th>\n",
       "      <th>Sunrise_Sunset</th>\n",
       "      <th>Civil_Twilight</th>\n",
       "      <th>Nautical_Twilight</th>\n",
       "      <th>Astronomical_Twilight</th>\n",
       "    </tr>\n",
       "  </thead>\n",
       "  <tbody>\n",
       "    <tr>\n",
       "      <th>0</th>\n",
       "      <td>A-1</td>\n",
       "      <td>3</td>\n",
       "      <td>2016-02-08 00:37:08</td>\n",
       "      <td>2016-02-08 06:37:08</td>\n",
       "      <td>40.108910</td>\n",
       "      <td>-83.092860</td>\n",
       "      <td>40.112060</td>\n",
       "      <td>-83.031870</td>\n",
       "      <td>3.230</td>\n",
       "      <td>Between Sawmill Rd/Exit 20 and OH-315/Olentang...</td>\n",
       "      <td>...</td>\n",
       "      <td>False</td>\n",
       "      <td>False</td>\n",
       "      <td>False</td>\n",
       "      <td>False</td>\n",
       "      <td>False</td>\n",
       "      <td>False</td>\n",
       "      <td>Night</td>\n",
       "      <td>Night</td>\n",
       "      <td>Night</td>\n",
       "      <td>Night</td>\n",
       "    </tr>\n",
       "    <tr>\n",
       "      <th>1</th>\n",
       "      <td>A-2</td>\n",
       "      <td>2</td>\n",
       "      <td>2016-02-08 05:56:20</td>\n",
       "      <td>2016-02-08 11:56:20</td>\n",
       "      <td>39.865420</td>\n",
       "      <td>-84.062800</td>\n",
       "      <td>39.865010</td>\n",
       "      <td>-84.048730</td>\n",
       "      <td>0.747</td>\n",
       "      <td>At OH-4/OH-235/Exit 41 - Accident.</td>\n",
       "      <td>...</td>\n",
       "      <td>False</td>\n",
       "      <td>False</td>\n",
       "      <td>False</td>\n",
       "      <td>False</td>\n",
       "      <td>False</td>\n",
       "      <td>False</td>\n",
       "      <td>Night</td>\n",
       "      <td>Night</td>\n",
       "      <td>Night</td>\n",
       "      <td>Night</td>\n",
       "    </tr>\n",
       "    <tr>\n",
       "      <th>2</th>\n",
       "      <td>A-3</td>\n",
       "      <td>2</td>\n",
       "      <td>2016-02-08 06:15:39</td>\n",
       "      <td>2016-02-08 12:15:39</td>\n",
       "      <td>39.102660</td>\n",
       "      <td>-84.524680</td>\n",
       "      <td>39.102090</td>\n",
       "      <td>-84.523960</td>\n",
       "      <td>0.055</td>\n",
       "      <td>At I-71/US-50/Exit 1 - Accident.</td>\n",
       "      <td>...</td>\n",
       "      <td>False</td>\n",
       "      <td>False</td>\n",
       "      <td>False</td>\n",
       "      <td>False</td>\n",
       "      <td>False</td>\n",
       "      <td>False</td>\n",
       "      <td>Night</td>\n",
       "      <td>Night</td>\n",
       "      <td>Night</td>\n",
       "      <td>Day</td>\n",
       "    </tr>\n",
       "    <tr>\n",
       "      <th>3</th>\n",
       "      <td>A-4</td>\n",
       "      <td>2</td>\n",
       "      <td>2016-02-08 06:51:45</td>\n",
       "      <td>2016-02-08 12:51:45</td>\n",
       "      <td>41.062130</td>\n",
       "      <td>-81.537840</td>\n",
       "      <td>41.062170</td>\n",
       "      <td>-81.535470</td>\n",
       "      <td>0.123</td>\n",
       "      <td>At Dart Ave/Exit 21 - Accident.</td>\n",
       "      <td>...</td>\n",
       "      <td>False</td>\n",
       "      <td>False</td>\n",
       "      <td>False</td>\n",
       "      <td>False</td>\n",
       "      <td>False</td>\n",
       "      <td>False</td>\n",
       "      <td>Night</td>\n",
       "      <td>Night</td>\n",
       "      <td>Day</td>\n",
       "      <td>Day</td>\n",
       "    </tr>\n",
       "    <tr>\n",
       "      <th>4</th>\n",
       "      <td>A-5</td>\n",
       "      <td>3</td>\n",
       "      <td>2016-02-08 07:53:43</td>\n",
       "      <td>2016-02-08 13:53:43</td>\n",
       "      <td>39.172393</td>\n",
       "      <td>-84.492792</td>\n",
       "      <td>39.170476</td>\n",
       "      <td>-84.501798</td>\n",
       "      <td>0.500</td>\n",
       "      <td>At Mitchell Ave/Exit 6 - Accident.</td>\n",
       "      <td>...</td>\n",
       "      <td>False</td>\n",
       "      <td>False</td>\n",
       "      <td>False</td>\n",
       "      <td>False</td>\n",
       "      <td>False</td>\n",
       "      <td>False</td>\n",
       "      <td>Day</td>\n",
       "      <td>Day</td>\n",
       "      <td>Day</td>\n",
       "      <td>Day</td>\n",
       "    </tr>\n",
       "  </tbody>\n",
       "</table>\n",
       "<p>5 rows × 47 columns</p>\n",
       "</div>"
      ],
      "text/plain": [
       "    ID  Severity           Start_Time             End_Time  Start_Lat  \\\n",
       "0  A-1         3  2016-02-08 00:37:08  2016-02-08 06:37:08  40.108910   \n",
       "1  A-2         2  2016-02-08 05:56:20  2016-02-08 11:56:20  39.865420   \n",
       "2  A-3         2  2016-02-08 06:15:39  2016-02-08 12:15:39  39.102660   \n",
       "3  A-4         2  2016-02-08 06:51:45  2016-02-08 12:51:45  41.062130   \n",
       "4  A-5         3  2016-02-08 07:53:43  2016-02-08 13:53:43  39.172393   \n",
       "\n",
       "   Start_Lng    End_Lat    End_Lng  Distance(mi)  \\\n",
       "0 -83.092860  40.112060 -83.031870         3.230   \n",
       "1 -84.062800  39.865010 -84.048730         0.747   \n",
       "2 -84.524680  39.102090 -84.523960         0.055   \n",
       "3 -81.537840  41.062170 -81.535470         0.123   \n",
       "4 -84.492792  39.170476 -84.501798         0.500   \n",
       "\n",
       "                                         Description  ...  Roundabout Station  \\\n",
       "0  Between Sawmill Rd/Exit 20 and OH-315/Olentang...  ...       False   False   \n",
       "1                 At OH-4/OH-235/Exit 41 - Accident.  ...       False   False   \n",
       "2                   At I-71/US-50/Exit 1 - Accident.  ...       False   False   \n",
       "3                    At Dart Ave/Exit 21 - Accident.  ...       False   False   \n",
       "4                 At Mitchell Ave/Exit 6 - Accident.  ...       False   False   \n",
       "\n",
       "    Stop Traffic_Calming Traffic_Signal Turning_Loop Sunrise_Sunset  \\\n",
       "0  False           False          False        False          Night   \n",
       "1  False           False          False        False          Night   \n",
       "2  False           False          False        False          Night   \n",
       "3  False           False          False        False          Night   \n",
       "4  False           False          False        False            Day   \n",
       "\n",
       "  Civil_Twilight Nautical_Twilight Astronomical_Twilight  \n",
       "0          Night             Night                 Night  \n",
       "1          Night             Night                 Night  \n",
       "2          Night             Night                   Day  \n",
       "3          Night               Day                   Day  \n",
       "4            Day               Day                   Day  \n",
       "\n",
       "[5 rows x 47 columns]"
      ]
     },
     "execution_count": 2,
     "metadata": {},
     "output_type": "execute_result"
    }
   ],
   "source": [
    "us_df=pd.read_csv('US_Accidents_Dec21_updated.csv')\n",
    "us_df.head()"
   ]
  },
  {
   "cell_type": "markdown",
   "id": "8b22407d",
   "metadata": {},
   "source": [
    "### Data Preparation and Cleaning"
   ]
  },
  {
   "cell_type": "code",
   "execution_count": 3,
   "id": "43d25228",
   "metadata": {},
   "outputs": [
    {
     "name": "stdout",
     "output_type": "stream",
     "text": [
      "<class 'pandas.core.frame.DataFrame'>\n",
      "RangeIndex: 2845342 entries, 0 to 2845341\n",
      "Data columns (total 47 columns):\n",
      " #   Column                 Dtype  \n",
      "---  ------                 -----  \n",
      " 0   ID                     object \n",
      " 1   Severity               int64  \n",
      " 2   Start_Time             object \n",
      " 3   End_Time               object \n",
      " 4   Start_Lat              float64\n",
      " 5   Start_Lng              float64\n",
      " 6   End_Lat                float64\n",
      " 7   End_Lng                float64\n",
      " 8   Distance(mi)           float64\n",
      " 9   Description            object \n",
      " 10  Number                 float64\n",
      " 11  Street                 object \n",
      " 12  Side                   object \n",
      " 13  City                   object \n",
      " 14  County                 object \n",
      " 15  State                  object \n",
      " 16  Zipcode                object \n",
      " 17  Country                object \n",
      " 18  Timezone               object \n",
      " 19  Airport_Code           object \n",
      " 20  Weather_Timestamp      object \n",
      " 21  Temperature(F)         float64\n",
      " 22  Wind_Chill(F)          float64\n",
      " 23  Humidity(%)            float64\n",
      " 24  Pressure(in)           float64\n",
      " 25  Visibility(mi)         float64\n",
      " 26  Wind_Direction         object \n",
      " 27  Wind_Speed(mph)        float64\n",
      " 28  Precipitation(in)      float64\n",
      " 29  Weather_Condition      object \n",
      " 30  Amenity                bool   \n",
      " 31  Bump                   bool   \n",
      " 32  Crossing               bool   \n",
      " 33  Give_Way               bool   \n",
      " 34  Junction               bool   \n",
      " 35  No_Exit                bool   \n",
      " 36  Railway                bool   \n",
      " 37  Roundabout             bool   \n",
      " 38  Station                bool   \n",
      " 39  Stop                   bool   \n",
      " 40  Traffic_Calming        bool   \n",
      " 41  Traffic_Signal         bool   \n",
      " 42  Turning_Loop           bool   \n",
      " 43  Sunrise_Sunset         object \n",
      " 44  Civil_Twilight         object \n",
      " 45  Nautical_Twilight      object \n",
      " 46  Astronomical_Twilight  object \n",
      "dtypes: bool(13), float64(13), int64(1), object(20)\n",
      "memory usage: 773.4+ MB\n"
     ]
    }
   ],
   "source": [
    "us_df.info()"
   ]
  },
  {
   "cell_type": "code",
   "execution_count": 4,
   "id": "c39eec18",
   "metadata": {},
   "outputs": [
    {
     "data": {
      "text/plain": [
       "array(['OH', 'IN', 'KY', 'WV', 'MI', 'PA', 'CA', 'NV', 'MN', 'TX', 'MO',\n",
       "       'CO', 'OK', 'LA', 'KS', 'WI', 'IA', 'MS', 'NE', 'ND', 'WY', 'SD',\n",
       "       'MT', 'NM', 'AR', 'IL', 'NJ', 'GA', 'FL', 'NY', 'CT', 'RI', 'SC',\n",
       "       'NC', 'MD', 'MA', 'TN', 'VA', 'DE', 'DC', 'ME', 'AL', 'NH', 'VT',\n",
       "       'AZ', 'UT', 'ID', 'OR', 'WA'], dtype=object)"
      ]
     },
     "execution_count": 4,
     "metadata": {},
     "output_type": "execute_result"
    }
   ],
   "source": [
    "us_df.State.unique()"
   ]
  },
  {
   "cell_type": "code",
   "execution_count": 5,
   "id": "40a6b604",
   "metadata": {},
   "outputs": [
    {
     "data": {
      "text/plain": [
       "ID                             0\n",
       "Severity                       0\n",
       "Start_Time                     0\n",
       "End_Time                       0\n",
       "Start_Lat                      0\n",
       "Start_Lng                      0\n",
       "End_Lat                        0\n",
       "End_Lng                        0\n",
       "Distance(mi)                   0\n",
       "Description                    0\n",
       "Number                   1743911\n",
       "Street                         2\n",
       "Side                           0\n",
       "City                         137\n",
       "County                         0\n",
       "State                          0\n",
       "Zipcode                     1319\n",
       "Country                        0\n",
       "Timezone                    3659\n",
       "Airport_Code                9549\n",
       "Weather_Timestamp          50736\n",
       "Temperature(F)             69274\n",
       "Wind_Chill(F)             469643\n",
       "Humidity(%)                73092\n",
       "Pressure(in)               59200\n",
       "Visibility(mi)             70546\n",
       "Wind_Direction             73775\n",
       "Wind_Speed(mph)           157944\n",
       "Precipitation(in)         549458\n",
       "Weather_Condition          70636\n",
       "Amenity                        0\n",
       "Bump                           0\n",
       "Crossing                       0\n",
       "Give_Way                       0\n",
       "Junction                       0\n",
       "No_Exit                        0\n",
       "Railway                        0\n",
       "Roundabout                     0\n",
       "Station                        0\n",
       "Stop                           0\n",
       "Traffic_Calming                0\n",
       "Traffic_Signal                 0\n",
       "Turning_Loop                   0\n",
       "Sunrise_Sunset              2867\n",
       "Civil_Twilight              2867\n",
       "Nautical_Twilight           2867\n",
       "Astronomical_Twilight       2867\n",
       "dtype: int64"
      ]
     },
     "execution_count": 5,
     "metadata": {},
     "output_type": "execute_result"
    }
   ],
   "source": [
    "us_df.isna().sum()"
   ]
  },
  {
   "cell_type": "code",
   "execution_count": 6,
   "id": "7aed6254",
   "metadata": {},
   "outputs": [
    {
     "data": {
      "text/plain": [
       "14"
      ]
     },
     "execution_count": 6,
     "metadata": {},
     "output_type": "execute_result"
    }
   ],
   "source": [
    "#number of numerical columns\n",
    "numerics=['int16','int32','int64','float16','float32','float64']\n",
    "new_df=us_df.select_dtypes(include=numerics)\n",
    "len(new_df.columns)"
   ]
  },
  {
   "cell_type": "code",
   "execution_count": 7,
   "id": "f4e3f232",
   "metadata": {},
   "outputs": [
    {
     "data": {
      "text/html": [
       "<div>\n",
       "<style scoped>\n",
       "    .dataframe tbody tr th:only-of-type {\n",
       "        vertical-align: middle;\n",
       "    }\n",
       "\n",
       "    .dataframe tbody tr th {\n",
       "        vertical-align: top;\n",
       "    }\n",
       "\n",
       "    .dataframe thead th {\n",
       "        text-align: right;\n",
       "    }\n",
       "</style>\n",
       "<table border=\"1\" class=\"dataframe\">\n",
       "  <thead>\n",
       "    <tr style=\"text-align: right;\">\n",
       "      <th></th>\n",
       "      <th>Severity</th>\n",
       "      <th>Start_Lat</th>\n",
       "      <th>Start_Lng</th>\n",
       "      <th>End_Lat</th>\n",
       "      <th>End_Lng</th>\n",
       "      <th>Distance(mi)</th>\n",
       "      <th>Number</th>\n",
       "      <th>Temperature(F)</th>\n",
       "      <th>Wind_Chill(F)</th>\n",
       "      <th>Humidity(%)</th>\n",
       "      <th>Pressure(in)</th>\n",
       "      <th>Visibility(mi)</th>\n",
       "      <th>Wind_Speed(mph)</th>\n",
       "      <th>Precipitation(in)</th>\n",
       "    </tr>\n",
       "  </thead>\n",
       "  <tbody>\n",
       "    <tr>\n",
       "      <th>count</th>\n",
       "      <td>2.845342e+06</td>\n",
       "      <td>2.845342e+06</td>\n",
       "      <td>2.845342e+06</td>\n",
       "      <td>2.845342e+06</td>\n",
       "      <td>2.845342e+06</td>\n",
       "      <td>2.845342e+06</td>\n",
       "      <td>1.101431e+06</td>\n",
       "      <td>2.776068e+06</td>\n",
       "      <td>2.375699e+06</td>\n",
       "      <td>2.772250e+06</td>\n",
       "      <td>2.786142e+06</td>\n",
       "      <td>2.774796e+06</td>\n",
       "      <td>2.687398e+06</td>\n",
       "      <td>2.295884e+06</td>\n",
       "    </tr>\n",
       "    <tr>\n",
       "      <th>mean</th>\n",
       "      <td>2.137572e+00</td>\n",
       "      <td>3.624520e+01</td>\n",
       "      <td>-9.711463e+01</td>\n",
       "      <td>3.624532e+01</td>\n",
       "      <td>-9.711439e+01</td>\n",
       "      <td>7.026779e-01</td>\n",
       "      <td>8.089408e+03</td>\n",
       "      <td>6.179356e+01</td>\n",
       "      <td>5.965823e+01</td>\n",
       "      <td>6.436545e+01</td>\n",
       "      <td>2.947234e+01</td>\n",
       "      <td>9.099391e+00</td>\n",
       "      <td>7.395044e+00</td>\n",
       "      <td>7.016940e-03</td>\n",
       "    </tr>\n",
       "    <tr>\n",
       "      <th>std</th>\n",
       "      <td>4.787216e-01</td>\n",
       "      <td>5.363797e+00</td>\n",
       "      <td>1.831782e+01</td>\n",
       "      <td>5.363873e+00</td>\n",
       "      <td>1.831763e+01</td>\n",
       "      <td>1.560361e+00</td>\n",
       "      <td>1.836009e+04</td>\n",
       "      <td>1.862263e+01</td>\n",
       "      <td>2.116097e+01</td>\n",
       "      <td>2.287457e+01</td>\n",
       "      <td>1.045286e+00</td>\n",
       "      <td>2.717546e+00</td>\n",
       "      <td>5.527454e+00</td>\n",
       "      <td>9.348831e-02</td>\n",
       "    </tr>\n",
       "    <tr>\n",
       "      <th>min</th>\n",
       "      <td>1.000000e+00</td>\n",
       "      <td>2.456603e+01</td>\n",
       "      <td>-1.245481e+02</td>\n",
       "      <td>2.456601e+01</td>\n",
       "      <td>-1.245457e+02</td>\n",
       "      <td>0.000000e+00</td>\n",
       "      <td>0.000000e+00</td>\n",
       "      <td>-8.900000e+01</td>\n",
       "      <td>-8.900000e+01</td>\n",
       "      <td>1.000000e+00</td>\n",
       "      <td>0.000000e+00</td>\n",
       "      <td>0.000000e+00</td>\n",
       "      <td>0.000000e+00</td>\n",
       "      <td>0.000000e+00</td>\n",
       "    </tr>\n",
       "    <tr>\n",
       "      <th>25%</th>\n",
       "      <td>2.000000e+00</td>\n",
       "      <td>3.344517e+01</td>\n",
       "      <td>-1.180331e+02</td>\n",
       "      <td>3.344628e+01</td>\n",
       "      <td>-1.180333e+02</td>\n",
       "      <td>5.200000e-02</td>\n",
       "      <td>1.270000e+03</td>\n",
       "      <td>5.000000e+01</td>\n",
       "      <td>4.600000e+01</td>\n",
       "      <td>4.800000e+01</td>\n",
       "      <td>2.931000e+01</td>\n",
       "      <td>1.000000e+01</td>\n",
       "      <td>3.500000e+00</td>\n",
       "      <td>0.000000e+00</td>\n",
       "    </tr>\n",
       "    <tr>\n",
       "      <th>50%</th>\n",
       "      <td>2.000000e+00</td>\n",
       "      <td>3.609861e+01</td>\n",
       "      <td>-9.241808e+01</td>\n",
       "      <td>3.609799e+01</td>\n",
       "      <td>-9.241772e+01</td>\n",
       "      <td>2.440000e-01</td>\n",
       "      <td>4.007000e+03</td>\n",
       "      <td>6.400000e+01</td>\n",
       "      <td>6.300000e+01</td>\n",
       "      <td>6.700000e+01</td>\n",
       "      <td>2.982000e+01</td>\n",
       "      <td>1.000000e+01</td>\n",
       "      <td>7.000000e+00</td>\n",
       "      <td>0.000000e+00</td>\n",
       "    </tr>\n",
       "    <tr>\n",
       "      <th>75%</th>\n",
       "      <td>2.000000e+00</td>\n",
       "      <td>4.016024e+01</td>\n",
       "      <td>-8.037243e+01</td>\n",
       "      <td>4.016105e+01</td>\n",
       "      <td>-8.037338e+01</td>\n",
       "      <td>7.640000e-01</td>\n",
       "      <td>9.567000e+03</td>\n",
       "      <td>7.600000e+01</td>\n",
       "      <td>7.600000e+01</td>\n",
       "      <td>8.300000e+01</td>\n",
       "      <td>3.001000e+01</td>\n",
       "      <td>1.000000e+01</td>\n",
       "      <td>1.000000e+01</td>\n",
       "      <td>0.000000e+00</td>\n",
       "    </tr>\n",
       "    <tr>\n",
       "      <th>max</th>\n",
       "      <td>4.000000e+00</td>\n",
       "      <td>4.900058e+01</td>\n",
       "      <td>-6.711317e+01</td>\n",
       "      <td>4.907500e+01</td>\n",
       "      <td>-6.710924e+01</td>\n",
       "      <td>1.551860e+02</td>\n",
       "      <td>9.999997e+06</td>\n",
       "      <td>1.960000e+02</td>\n",
       "      <td>1.960000e+02</td>\n",
       "      <td>1.000000e+02</td>\n",
       "      <td>5.890000e+01</td>\n",
       "      <td>1.400000e+02</td>\n",
       "      <td>1.087000e+03</td>\n",
       "      <td>2.400000e+01</td>\n",
       "    </tr>\n",
       "  </tbody>\n",
       "</table>\n",
       "</div>"
      ],
      "text/plain": [
       "           Severity     Start_Lat     Start_Lng       End_Lat       End_Lng  \\\n",
       "count  2.845342e+06  2.845342e+06  2.845342e+06  2.845342e+06  2.845342e+06   \n",
       "mean   2.137572e+00  3.624520e+01 -9.711463e+01  3.624532e+01 -9.711439e+01   \n",
       "std    4.787216e-01  5.363797e+00  1.831782e+01  5.363873e+00  1.831763e+01   \n",
       "min    1.000000e+00  2.456603e+01 -1.245481e+02  2.456601e+01 -1.245457e+02   \n",
       "25%    2.000000e+00  3.344517e+01 -1.180331e+02  3.344628e+01 -1.180333e+02   \n",
       "50%    2.000000e+00  3.609861e+01 -9.241808e+01  3.609799e+01 -9.241772e+01   \n",
       "75%    2.000000e+00  4.016024e+01 -8.037243e+01  4.016105e+01 -8.037338e+01   \n",
       "max    4.000000e+00  4.900058e+01 -6.711317e+01  4.907500e+01 -6.710924e+01   \n",
       "\n",
       "       Distance(mi)        Number  Temperature(F)  Wind_Chill(F)  \\\n",
       "count  2.845342e+06  1.101431e+06    2.776068e+06   2.375699e+06   \n",
       "mean   7.026779e-01  8.089408e+03    6.179356e+01   5.965823e+01   \n",
       "std    1.560361e+00  1.836009e+04    1.862263e+01   2.116097e+01   \n",
       "min    0.000000e+00  0.000000e+00   -8.900000e+01  -8.900000e+01   \n",
       "25%    5.200000e-02  1.270000e+03    5.000000e+01   4.600000e+01   \n",
       "50%    2.440000e-01  4.007000e+03    6.400000e+01   6.300000e+01   \n",
       "75%    7.640000e-01  9.567000e+03    7.600000e+01   7.600000e+01   \n",
       "max    1.551860e+02  9.999997e+06    1.960000e+02   1.960000e+02   \n",
       "\n",
       "        Humidity(%)  Pressure(in)  Visibility(mi)  Wind_Speed(mph)  \\\n",
       "count  2.772250e+06  2.786142e+06    2.774796e+06     2.687398e+06   \n",
       "mean   6.436545e+01  2.947234e+01    9.099391e+00     7.395044e+00   \n",
       "std    2.287457e+01  1.045286e+00    2.717546e+00     5.527454e+00   \n",
       "min    1.000000e+00  0.000000e+00    0.000000e+00     0.000000e+00   \n",
       "25%    4.800000e+01  2.931000e+01    1.000000e+01     3.500000e+00   \n",
       "50%    6.700000e+01  2.982000e+01    1.000000e+01     7.000000e+00   \n",
       "75%    8.300000e+01  3.001000e+01    1.000000e+01     1.000000e+01   \n",
       "max    1.000000e+02  5.890000e+01    1.400000e+02     1.087000e+03   \n",
       "\n",
       "       Precipitation(in)  \n",
       "count       2.295884e+06  \n",
       "mean        7.016940e-03  \n",
       "std         9.348831e-02  \n",
       "min         0.000000e+00  \n",
       "25%         0.000000e+00  \n",
       "50%         0.000000e+00  \n",
       "75%         0.000000e+00  \n",
       "max         2.400000e+01  "
      ]
     },
     "execution_count": 7,
     "metadata": {},
     "output_type": "execute_result"
    }
   ],
   "source": [
    "us_df.describe()"
   ]
  },
  {
   "cell_type": "code",
   "execution_count": 8,
   "id": "84f2eee6",
   "metadata": {},
   "outputs": [],
   "source": [
    "### missing values"
   ]
  },
  {
   "cell_type": "code",
   "execution_count": 9,
   "id": "e37c4242",
   "metadata": {},
   "outputs": [
    {
     "data": {
      "text/plain": [
       "Number                   6.129003e-01\n",
       "Precipitation(in)        1.931079e-01\n",
       "Wind_Chill(F)            1.650568e-01\n",
       "Wind_Speed(mph)          5.550967e-02\n",
       "Wind_Direction           2.592834e-02\n",
       "Humidity(%)              2.568830e-02\n",
       "Weather_Condition        2.482514e-02\n",
       "Visibility(mi)           2.479350e-02\n",
       "Temperature(F)           2.434646e-02\n",
       "Pressure(in)             2.080593e-02\n",
       "Weather_Timestamp        1.783125e-02\n",
       "Airport_Code             3.356011e-03\n",
       "Timezone                 1.285961e-03\n",
       "Nautical_Twilight        1.007612e-03\n",
       "Civil_Twilight           1.007612e-03\n",
       "Sunrise_Sunset           1.007612e-03\n",
       "Astronomical_Twilight    1.007612e-03\n",
       "Zipcode                  4.635647e-04\n",
       "City                     4.814887e-05\n",
       "Street                   7.029032e-07\n",
       "Country                  0.000000e+00\n",
       "Junction                 0.000000e+00\n",
       "Start_Time               0.000000e+00\n",
       "End_Time                 0.000000e+00\n",
       "Start_Lat                0.000000e+00\n",
       "Turning_Loop             0.000000e+00\n",
       "Traffic_Signal           0.000000e+00\n",
       "Traffic_Calming          0.000000e+00\n",
       "Stop                     0.000000e+00\n",
       "Station                  0.000000e+00\n",
       "Roundabout               0.000000e+00\n",
       "Railway                  0.000000e+00\n",
       "No_Exit                  0.000000e+00\n",
       "Crossing                 0.000000e+00\n",
       "Give_Way                 0.000000e+00\n",
       "Bump                     0.000000e+00\n",
       "Amenity                  0.000000e+00\n",
       "Start_Lng                0.000000e+00\n",
       "End_Lat                  0.000000e+00\n",
       "End_Lng                  0.000000e+00\n",
       "Distance(mi)             0.000000e+00\n",
       "Description              0.000000e+00\n",
       "Severity                 0.000000e+00\n",
       "Side                     0.000000e+00\n",
       "County                   0.000000e+00\n",
       "State                    0.000000e+00\n",
       "ID                       0.000000e+00\n",
       "dtype: float64"
      ]
     },
     "execution_count": 9,
     "metadata": {},
     "output_type": "execute_result"
    }
   ],
   "source": [
    "missing_percentages=us_df.isna().sum().sort_values(ascending=False)/len(us_df)#...Number-street number\n",
    "missing_percentages"
   ]
  },
  {
   "cell_type": "code",
   "execution_count": 10,
   "id": "d52649fc",
   "metadata": {},
   "outputs": [
    {
     "data": {
      "text/plain": [
       "<AxesSubplot:>"
      ]
     },
     "execution_count": 10,
     "metadata": {},
     "output_type": "execute_result"
    },
    {
     "data": {
      "image/png": "[encoded data removed]",
      "text/plain": [
       "<Figure size 432x288 with 1 Axes>"
      ]
     },
     "metadata": {
      "needs_background": "light"
     },
     "output_type": "display_data"
    }
   ],
   "source": [
    "missing_percentages[missing_percentages!=0].plot(kind='barh')"
   ]
  },
  {
   "cell_type": "code",
   "execution_count": 11,
   "id": "d6402c9c",
   "metadata": {},
   "outputs": [],
   "source": [
    "#remove columns with more than 50% missing values\n",
    "us_df.drop('Number',axis='columns',inplace=True)"
   ]
  },
  {
   "cell_type": "code",
   "execution_count": 12,
   "id": "cbd36af0",
   "metadata": {},
   "outputs": [],
   "source": [
    "#remove missing values\n",
    "us_df.dropna(inplace=True)"
   ]
  },
  {
   "cell_type": "markdown",
   "id": "ba889ae6",
   "metadata": {},
   "source": [
    "### EDA"
   ]
  },
  {
   "cell_type": "code",
   "execution_count": 79,
   "id": "ff593ca5",
   "metadata": {},
   "outputs": [],
   "source": [
    "#### columns to analyze\n",
    "# city\n",
    "# start time\n",
    "\n",
    "#weather condition\n",
    "#visibility"
   ]
  },
  {
   "cell_type": "code",
   "execution_count": 14,
   "id": "0e13bc20",
   "metadata": {},
   "outputs": [
    {
     "data": {
      "text/plain": [
       "9723"
      ]
     },
     "execution_count": 14,
     "metadata": {},
     "output_type": "execute_result"
    }
   ],
   "source": [
    "cities=us_df.City.unique()\n",
    "len(cities)"
   ]
  },
  {
   "cell_type": "markdown",
   "id": "89a17493",
   "metadata": {},
   "source": [
    "#### Which city in US has reported the most number of accident cases?"
   ]
  },
  {
   "cell_type": "code",
   "execution_count": 15,
   "id": "9aee6ebb",
   "metadata": {},
   "outputs": [
    {
     "data": {
      "text/plain": [
       "Miami            97723\n",
       "Los Angeles      56471\n",
       "Orlando          49691\n",
       "Dallas           33052\n",
       "Houston          28385\n",
       "                 ...  \n",
       "Byars                1\n",
       "Fort Atkinson        1\n",
       "Kintnersville        1\n",
       "Ozone                1\n",
       "Lorena               1\n",
       "Name: City, Length: 9723, dtype: int64"
      ]
     },
     "execution_count": 15,
     "metadata": {},
     "output_type": "execute_result"
    }
   ],
   "source": [
    "cities_by_accident=us_df.City.value_counts()\n",
    "cities_by_accident"
   ]
  },
  {
   "cell_type": "code",
   "execution_count": 16,
   "id": "74678506",
   "metadata": {},
   "outputs": [
    {
     "data": {
      "text/plain": [
       "Miami           97723\n",
       "Los Angeles     56471\n",
       "Orlando         49691\n",
       "Dallas          33052\n",
       "Houston         28385\n",
       "Charlotte       24335\n",
       "San Diego       21999\n",
       "Raleigh         20932\n",
       "Minneapolis     19573\n",
       "Nashville       18071\n",
       "Sacramento      17708\n",
       "Baton Rouge     17102\n",
       "Portland        16338\n",
       "Austin          15288\n",
       "New Orleans     15120\n",
       "Saint Paul      14170\n",
       "Phoenix         12994\n",
       "Tucson          12343\n",
       "Richmond        12238\n",
       "Jacksonville    12070\n",
       "Name: City, dtype: int64"
      ]
     },
     "execution_count": 16,
     "metadata": {},
     "output_type": "execute_result"
    }
   ],
   "source": [
    "cities_by_accident[:20]"
   ]
  },
  {
   "cell_type": "code",
   "execution_count": 32,
   "id": "ddfd83bc",
   "metadata": {},
   "outputs": [
    {
     "data": {
      "text/plain": [
       "<AxesSubplot:>"
      ]
     },
     "execution_count": 32,
     "metadata": {},
     "output_type": "execute_result"
    },
    {
     "data": {
      "image/png": "[encoded data removed]",
      "text/plain": [
       "<Figure size 432x288 with 1 Axes>"
      ]
     },
     "metadata": {
      "needs_background": "light"
     },
     "output_type": "display_data"
    }
   ],
   "source": [
    "cities_by_accident[:20].plot(kind='barh')"
   ]
  },
  {
   "cell_type": "markdown",
   "id": "92dd804f",
   "metadata": {},
   "source": [
    "Miami,Orlando,Raleign and Saint Paul are among the top in accidents yet they are not even top 40 in population size. More studies should be done to get more understanding why the number of accidents are higher in these two cities."
   ]
  },
  {
   "cell_type": "code",
   "execution_count": 34,
   "id": "0d6adb0b",
   "metadata": {},
   "outputs": [
    {
     "data": {
      "image/png": "[encoded data removed]",
      "text/plain": [
       "<Figure size 432x288 with 1 Axes>"
      ]
     },
     "metadata": {
      "needs_background": "light"
     },
     "output_type": "display_data"
    }
   ],
   "source": [
    "#distribution of accidents\n",
    "sns.histplot(cities_by_accident,log_scale=True)\n",
    "plt.xlabel('Number of Accidents')\n",
    "plt.show()"
   ]
  },
  {
   "cell_type": "markdown",
   "id": "0823ba83",
   "metadata": {},
   "source": [
    "Most cities have the number of accidents less than 1000. There are more than 800 cities that have a reported case of 1 accident in a period of 5 years(need to investigate more)"
   ]
  },
  {
   "cell_type": "code",
   "execution_count": 35,
   "id": "ecbf9ad3",
   "metadata": {},
   "outputs": [
    {
     "data": {
      "text/plain": [
       "360"
      ]
     },
     "execution_count": 35,
     "metadata": {},
     "output_type": "execute_result"
    }
   ],
   "source": [
    "high_accident_cities=cities_by_accident[cities_by_accident>=1000]\n",
    "len(high_accident_cities)"
   ]
  },
  {
   "cell_type": "code",
   "execution_count": 36,
   "id": "77ae4663",
   "metadata": {},
   "outputs": [
    {
     "data": {
      "text/plain": [
       "9363"
      ]
     },
     "execution_count": 36,
     "metadata": {},
     "output_type": "execute_result"
    }
   ],
   "source": [
    "low_accident_cities=cities_by_accident[cities_by_accident<1000]\n",
    "len(low_accident_cities)"
   ]
  },
  {
   "cell_type": "markdown",
   "id": "be8558b6",
   "metadata": {},
   "source": [
    "### which States do these high accident cities belong to"
   ]
  },
  {
   "cell_type": "code",
   "execution_count": 17,
   "id": "e5d1594e",
   "metadata": {},
   "outputs": [
    {
     "data": {
      "text/html": [
       "<div>\n",
       "<style scoped>\n",
       "    .dataframe tbody tr th:only-of-type {\n",
       "        vertical-align: middle;\n",
       "    }\n",
       "\n",
       "    .dataframe tbody tr th {\n",
       "        vertical-align: top;\n",
       "    }\n",
       "\n",
       "    .dataframe thead th {\n",
       "        text-align: right;\n",
       "    }\n",
       "</style>\n",
       "<table border=\"1\" class=\"dataframe\">\n",
       "  <thead>\n",
       "    <tr style=\"text-align: right;\">\n",
       "      <th></th>\n",
       "      <th>City</th>\n",
       "      <th>State</th>\n",
       "      <th>ID</th>\n",
       "    </tr>\n",
       "  </thead>\n",
       "  <tbody>\n",
       "    <tr>\n",
       "      <th>0</th>\n",
       "      <td>Miami</td>\n",
       "      <td>FL</td>\n",
       "      <td>97684</td>\n",
       "    </tr>\n",
       "    <tr>\n",
       "      <th>1</th>\n",
       "      <td>Los Angeles</td>\n",
       "      <td>CA</td>\n",
       "      <td>56471</td>\n",
       "    </tr>\n",
       "    <tr>\n",
       "      <th>2</th>\n",
       "      <td>Orlando</td>\n",
       "      <td>FL</td>\n",
       "      <td>49657</td>\n",
       "    </tr>\n",
       "    <tr>\n",
       "      <th>3</th>\n",
       "      <td>Dallas</td>\n",
       "      <td>TX</td>\n",
       "      <td>32754</td>\n",
       "    </tr>\n",
       "    <tr>\n",
       "      <th>4</th>\n",
       "      <td>Houston</td>\n",
       "      <td>TX</td>\n",
       "      <td>28310</td>\n",
       "    </tr>\n",
       "    <tr>\n",
       "      <th>5</th>\n",
       "      <td>Charlotte</td>\n",
       "      <td>NC</td>\n",
       "      <td>24249</td>\n",
       "    </tr>\n",
       "    <tr>\n",
       "      <th>6</th>\n",
       "      <td>San Diego</td>\n",
       "      <td>CA</td>\n",
       "      <td>21999</td>\n",
       "    </tr>\n",
       "    <tr>\n",
       "      <th>7</th>\n",
       "      <td>Raleigh</td>\n",
       "      <td>NC</td>\n",
       "      <td>20932</td>\n",
       "    </tr>\n",
       "    <tr>\n",
       "      <th>8</th>\n",
       "      <td>Minneapolis</td>\n",
       "      <td>MN</td>\n",
       "      <td>19573</td>\n",
       "    </tr>\n",
       "    <tr>\n",
       "      <th>9</th>\n",
       "      <td>Nashville</td>\n",
       "      <td>TN</td>\n",
       "      <td>17993</td>\n",
       "    </tr>\n",
       "    <tr>\n",
       "      <th>10</th>\n",
       "      <td>Sacramento</td>\n",
       "      <td>CA</td>\n",
       "      <td>17708</td>\n",
       "    </tr>\n",
       "    <tr>\n",
       "      <th>11</th>\n",
       "      <td>Baton Rouge</td>\n",
       "      <td>LA</td>\n",
       "      <td>17102</td>\n",
       "    </tr>\n",
       "    <tr>\n",
       "      <th>12</th>\n",
       "      <td>Portland</td>\n",
       "      <td>OR</td>\n",
       "      <td>16102</td>\n",
       "    </tr>\n",
       "    <tr>\n",
       "      <th>13</th>\n",
       "      <td>New Orleans</td>\n",
       "      <td>LA</td>\n",
       "      <td>15120</td>\n",
       "    </tr>\n",
       "    <tr>\n",
       "      <th>14</th>\n",
       "      <td>Austin</td>\n",
       "      <td>TX</td>\n",
       "      <td>15007</td>\n",
       "    </tr>\n",
       "    <tr>\n",
       "      <th>15</th>\n",
       "      <td>Saint Paul</td>\n",
       "      <td>MN</td>\n",
       "      <td>14058</td>\n",
       "    </tr>\n",
       "    <tr>\n",
       "      <th>16</th>\n",
       "      <td>Phoenix</td>\n",
       "      <td>AZ</td>\n",
       "      <td>12846</td>\n",
       "    </tr>\n",
       "    <tr>\n",
       "      <th>17</th>\n",
       "      <td>Tucson</td>\n",
       "      <td>AZ</td>\n",
       "      <td>12343</td>\n",
       "    </tr>\n",
       "    <tr>\n",
       "      <th>18</th>\n",
       "      <td>Jacksonville</td>\n",
       "      <td>FL</td>\n",
       "      <td>11671</td>\n",
       "    </tr>\n",
       "    <tr>\n",
       "      <th>19</th>\n",
       "      <td>Bakersfield</td>\n",
       "      <td>CA</td>\n",
       "      <td>11504</td>\n",
       "    </tr>\n",
       "  </tbody>\n",
       "</table>\n",
       "</div>"
      ],
      "text/plain": [
       "            City State     ID\n",
       "0          Miami    FL  97684\n",
       "1    Los Angeles    CA  56471\n",
       "2        Orlando    FL  49657\n",
       "3         Dallas    TX  32754\n",
       "4        Houston    TX  28310\n",
       "5      Charlotte    NC  24249\n",
       "6      San Diego    CA  21999\n",
       "7        Raleigh    NC  20932\n",
       "8    Minneapolis    MN  19573\n",
       "9      Nashville    TN  17993\n",
       "10    Sacramento    CA  17708\n",
       "11   Baton Rouge    LA  17102\n",
       "12      Portland    OR  16102\n",
       "13   New Orleans    LA  15120\n",
       "14        Austin    TX  15007\n",
       "15    Saint Paul    MN  14058\n",
       "16       Phoenix    AZ  12846\n",
       "17        Tucson    AZ  12343\n",
       "18  Jacksonville    FL  11671\n",
       "19   Bakersfield    CA  11504"
      ]
     },
     "execution_count": 17,
     "metadata": {},
     "output_type": "execute_result"
    }
   ],
   "source": [
    "city_state_accidents=us_df.groupby(['City','State'])['ID'].count().sort_values(ascending=False)[:20].reset_index()\n",
    "city_state_accidents"
   ]
  },
  {
   "cell_type": "code",
   "execution_count": 18,
   "id": "a1a20c6d",
   "metadata": {},
   "outputs": [
    {
     "data": {
      "text/plain": [
       "CA    4\n",
       "FL    3\n",
       "TX    3\n",
       "NC    2\n",
       "LA    2\n",
       "AZ    2\n",
       "MN    2\n",
       "OR    1\n",
       "TN    1\n",
       "Name: State, dtype: int64"
      ]
     },
     "execution_count": 18,
     "metadata": {},
     "output_type": "execute_result"
    }
   ],
   "source": [
    "high_accident_city_states=city_state_accidents.State.value_counts()\n",
    "high_accident_city_states"
   ]
  },
  {
   "cell_type": "markdown",
   "id": "7a3472ca",
   "metadata": {},
   "source": [
    "### Which 5 states reported the highest number of accident cases?"
   ]
  },
  {
   "cell_type": "code",
   "execution_count": 24,
   "id": "355b1e10",
   "metadata": {},
   "outputs": [
    {
     "data": {
      "text/plain": [
       "CA    604477\n",
       "FL    350204\n",
       "TX    108714\n",
       "OR     98754\n",
       "VA     92191\n",
       "PA     87882\n",
       "MN     84652\n",
       "NY     84591\n",
       "SC     81962\n",
       "NC     73930\n",
       "Name: State, dtype: int64"
      ]
     },
     "execution_count": 24,
     "metadata": {},
     "output_type": "execute_result"
    }
   ],
   "source": [
    "states_by_accident=us_df.State.value_counts()\n",
    "states_by_accident[:10]"
   ]
  },
  {
   "cell_type": "markdown",
   "id": "ae7ab122",
   "metadata": {},
   "source": [
    "Oregon(OR),Minessota(MN),South Carolina(SC) are not among the top 10 in population yet they are among the top 10 in accidents. More research should be done why this is so"
   ]
  },
  {
   "cell_type": "code",
   "execution_count": 37,
   "id": "1dcf5d8b",
   "metadata": {},
   "outputs": [
    {
     "data": {
      "text/plain": [
       "103997    Portland\n",
       "104057    Portland\n",
       "104058    Portland\n",
       "104060    Portland\n",
       "104768    Portland\n",
       "Name: City, dtype: object"
      ]
     },
     "execution_count": 37,
     "metadata": {},
     "output_type": "execute_result"
    }
   ],
   "source": [
    "Oregon_cities=us_df.loc[us_df['State']=='OR']['City']\n",
    "Oregon_cities.head()"
   ]
  },
  {
   "cell_type": "code",
   "execution_count": 26,
   "id": "f1b32d57",
   "metadata": {},
   "outputs": [
    {
     "data": {
      "text/html": [
       "<div>\n",
       "<style scoped>\n",
       "    .dataframe tbody tr th:only-of-type {\n",
       "        vertical-align: middle;\n",
       "    }\n",
       "\n",
       "    .dataframe tbody tr th {\n",
       "        vertical-align: top;\n",
       "    }\n",
       "\n",
       "    .dataframe thead th {\n",
       "        text-align: right;\n",
       "    }\n",
       "</style>\n",
       "<table border=\"1\" class=\"dataframe\">\n",
       "  <thead>\n",
       "    <tr style=\"text-align: right;\">\n",
       "      <th></th>\n",
       "      <th>City</th>\n",
       "      <th>count</th>\n",
       "    </tr>\n",
       "  </thead>\n",
       "  <tbody>\n",
       "    <tr>\n",
       "      <th>0</th>\n",
       "      <td>Portland</td>\n",
       "      <td>16102</td>\n",
       "    </tr>\n",
       "    <tr>\n",
       "      <th>1</th>\n",
       "      <td>Salem</td>\n",
       "      <td>2759</td>\n",
       "    </tr>\n",
       "    <tr>\n",
       "      <th>2</th>\n",
       "      <td>Pendleton</td>\n",
       "      <td>2408</td>\n",
       "    </tr>\n",
       "    <tr>\n",
       "      <th>3</th>\n",
       "      <td>Eugene</td>\n",
       "      <td>2148</td>\n",
       "    </tr>\n",
       "    <tr>\n",
       "      <th>4</th>\n",
       "      <td>Klamath Falls</td>\n",
       "      <td>1794</td>\n",
       "    </tr>\n",
       "    <tr>\n",
       "      <th>...</th>\n",
       "      <td>...</td>\n",
       "      <td>...</td>\n",
       "    </tr>\n",
       "    <tr>\n",
       "      <th>330</th>\n",
       "      <td>Bly</td>\n",
       "      <td>2</td>\n",
       "    </tr>\n",
       "    <tr>\n",
       "      <th>331</th>\n",
       "      <td>Portland West</td>\n",
       "      <td>2</td>\n",
       "    </tr>\n",
       "    <tr>\n",
       "      <th>332</th>\n",
       "      <td>Williams</td>\n",
       "      <td>1</td>\n",
       "    </tr>\n",
       "    <tr>\n",
       "      <th>333</th>\n",
       "      <td>Milwaukie</td>\n",
       "      <td>1</td>\n",
       "    </tr>\n",
       "    <tr>\n",
       "      <th>334</th>\n",
       "      <td>Diamond</td>\n",
       "      <td>1</td>\n",
       "    </tr>\n",
       "  </tbody>\n",
       "</table>\n",
       "<p>335 rows × 2 columns</p>\n",
       "</div>"
      ],
      "text/plain": [
       "              City  count\n",
       "0         Portland  16102\n",
       "1            Salem   2759\n",
       "2        Pendleton   2408\n",
       "3           Eugene   2148\n",
       "4    Klamath Falls   1794\n",
       "..             ...    ...\n",
       "330            Bly      2\n",
       "331  Portland West      2\n",
       "332       Williams      1\n",
       "333      Milwaukie      1\n",
       "334        Diamond      1\n",
       "\n",
       "[335 rows x 2 columns]"
      ]
     },
     "execution_count": 26,
     "metadata": {},
     "output_type": "execute_result"
    }
   ],
   "source": [
    "oregon_counts=Oregon_cities.value_counts().reset_index()\n",
    "oregon_counts.columns=['City','count']\n",
    "oregon_counts"
   ]
  },
  {
   "cell_type": "code",
   "execution_count": 27,
   "id": "fbed67ef",
   "metadata": {},
   "outputs": [
    {
     "data": {
      "image/png": "[encoded data removed]",
      "text/plain": [
       "<Figure size 720x576 with 1 Axes>"
      ]
     },
     "metadata": {
      "needs_background": "light"
     },
     "output_type": "display_data"
    }
   ],
   "source": [
    "plt.figure(figsize=(10,8))\n",
    "sns.barplot(x='count',y='City',data=oregon_counts[:20])\n",
    "plt.show()"
   ]
  },
  {
   "cell_type": "markdown",
   "id": "47fad5a7",
   "metadata": {},
   "source": [
    "Portland in Oregon city is causing the surge in accidents in that State"
   ]
  },
  {
   "cell_type": "code",
   "execution_count": 28,
   "id": "c2327dd5",
   "metadata": {},
   "outputs": [
    {
     "data": {
      "text/html": [
       "<div>\n",
       "<style scoped>\n",
       "    .dataframe tbody tr th:only-of-type {\n",
       "        vertical-align: middle;\n",
       "    }\n",
       "\n",
       "    .dataframe tbody tr th {\n",
       "        vertical-align: top;\n",
       "    }\n",
       "\n",
       "    .dataframe thead th {\n",
       "        text-align: right;\n",
       "    }\n",
       "</style>\n",
       "<table border=\"1\" class=\"dataframe\">\n",
       "  <thead>\n",
       "    <tr style=\"text-align: right;\">\n",
       "      <th></th>\n",
       "      <th>City</th>\n",
       "      <th>count</th>\n",
       "    </tr>\n",
       "  </thead>\n",
       "  <tbody>\n",
       "    <tr>\n",
       "      <th>0</th>\n",
       "      <td>Minneapolis</td>\n",
       "      <td>19573</td>\n",
       "    </tr>\n",
       "    <tr>\n",
       "      <th>1</th>\n",
       "      <td>Saint Paul</td>\n",
       "      <td>14058</td>\n",
       "    </tr>\n",
       "    <tr>\n",
       "      <th>2</th>\n",
       "      <td>Hopkins</td>\n",
       "      <td>980</td>\n",
       "    </tr>\n",
       "    <tr>\n",
       "      <th>3</th>\n",
       "      <td>Saint Cloud</td>\n",
       "      <td>979</td>\n",
       "    </tr>\n",
       "    <tr>\n",
       "      <th>4</th>\n",
       "      <td>Burnsville</td>\n",
       "      <td>972</td>\n",
       "    </tr>\n",
       "    <tr>\n",
       "      <th>...</th>\n",
       "      <td>...</td>\n",
       "      <td>...</td>\n",
       "    </tr>\n",
       "    <tr>\n",
       "      <th>589</th>\n",
       "      <td>Waltham</td>\n",
       "      <td>1</td>\n",
       "    </tr>\n",
       "    <tr>\n",
       "      <th>590</th>\n",
       "      <td>Lewisville</td>\n",
       "      <td>1</td>\n",
       "    </tr>\n",
       "    <tr>\n",
       "      <th>591</th>\n",
       "      <td>Taopi</td>\n",
       "      <td>1</td>\n",
       "    </tr>\n",
       "    <tr>\n",
       "      <th>592</th>\n",
       "      <td>Herman</td>\n",
       "      <td>1</td>\n",
       "    </tr>\n",
       "    <tr>\n",
       "      <th>593</th>\n",
       "      <td>Henriette</td>\n",
       "      <td>1</td>\n",
       "    </tr>\n",
       "  </tbody>\n",
       "</table>\n",
       "<p>594 rows × 2 columns</p>\n",
       "</div>"
      ],
      "text/plain": [
       "            City  count\n",
       "0    Minneapolis  19573\n",
       "1     Saint Paul  14058\n",
       "2        Hopkins    980\n",
       "3    Saint Cloud    979\n",
       "4     Burnsville    972\n",
       "..           ...    ...\n",
       "589      Waltham      1\n",
       "590   Lewisville      1\n",
       "591        Taopi      1\n",
       "592       Herman      1\n",
       "593    Henriette      1\n",
       "\n",
       "[594 rows x 2 columns]"
      ]
     },
     "execution_count": 28,
     "metadata": {},
     "output_type": "execute_result"
    }
   ],
   "source": [
    "Minessota_cities=us_df.loc[us_df['State']=='MN']['City']\n",
    "minessota_counts=Minessota_cities.value_counts().reset_index()\n",
    "minessota_counts.columns=['City','count']\n",
    "minessota_counts"
   ]
  },
  {
   "cell_type": "code",
   "execution_count": 29,
   "id": "86a324cd",
   "metadata": {},
   "outputs": [
    {
     "data": {
      "image/png": "[encoded data removed]",
      "text/plain": [
       "<Figure size 720x576 with 1 Axes>"
      ]
     },
     "metadata": {
      "needs_background": "light"
     },
     "output_type": "display_data"
    }
   ],
   "source": [
    "plt.figure(figsize=(10,8))\n",
    "sns.barplot(x='count',y='City',data=minessota_counts[:20])\n",
    "plt.show()"
   ]
  },
  {
   "cell_type": "markdown",
   "id": "e003c560",
   "metadata": {},
   "source": [
    "Minneapolis and Saint Paul in Minessota State are causing the surge in accidents in that State"
   ]
  },
  {
   "cell_type": "code",
   "execution_count": 50,
   "id": "9cb8abf3",
   "metadata": {},
   "outputs": [
    {
     "data": {
      "text/html": [
       "<div>\n",
       "<style scoped>\n",
       "    .dataframe tbody tr th:only-of-type {\n",
       "        vertical-align: middle;\n",
       "    }\n",
       "\n",
       "    .dataframe tbody tr th {\n",
       "        vertical-align: top;\n",
       "    }\n",
       "\n",
       "    .dataframe thead th {\n",
       "        text-align: right;\n",
       "    }\n",
       "</style>\n",
       "<table border=\"1\" class=\"dataframe\">\n",
       "  <thead>\n",
       "    <tr style=\"text-align: right;\">\n",
       "      <th></th>\n",
       "      <th>City</th>\n",
       "      <th>count</th>\n",
       "    </tr>\n",
       "  </thead>\n",
       "  <tbody>\n",
       "    <tr>\n",
       "      <th>0</th>\n",
       "      <td>Columbia</td>\n",
       "      <td>7668</td>\n",
       "    </tr>\n",
       "    <tr>\n",
       "      <th>1</th>\n",
       "      <td>Greenville</td>\n",
       "      <td>6142</td>\n",
       "    </tr>\n",
       "    <tr>\n",
       "      <th>2</th>\n",
       "      <td>Spartanburg</td>\n",
       "      <td>2824</td>\n",
       "    </tr>\n",
       "    <tr>\n",
       "      <th>3</th>\n",
       "      <td>Florence</td>\n",
       "      <td>2700</td>\n",
       "    </tr>\n",
       "    <tr>\n",
       "      <th>4</th>\n",
       "      <td>Myrtle Beach</td>\n",
       "      <td>2355</td>\n",
       "    </tr>\n",
       "    <tr>\n",
       "      <th>...</th>\n",
       "      <td>...</td>\n",
       "      <td>...</td>\n",
       "    </tr>\n",
       "    <tr>\n",
       "      <th>308</th>\n",
       "      <td>Elliott</td>\n",
       "      <td>2</td>\n",
       "    </tr>\n",
       "    <tr>\n",
       "      <th>309</th>\n",
       "      <td>Sheldon</td>\n",
       "      <td>1</td>\n",
       "    </tr>\n",
       "    <tr>\n",
       "      <th>310</th>\n",
       "      <td>Mc Clellanville</td>\n",
       "      <td>1</td>\n",
       "    </tr>\n",
       "    <tr>\n",
       "      <th>311</th>\n",
       "      <td>Mount Carmel</td>\n",
       "      <td>1</td>\n",
       "    </tr>\n",
       "    <tr>\n",
       "      <th>312</th>\n",
       "      <td>Charleston AFB</td>\n",
       "      <td>1</td>\n",
       "    </tr>\n",
       "  </tbody>\n",
       "</table>\n",
       "<p>313 rows × 2 columns</p>\n",
       "</div>"
      ],
      "text/plain": [
       "                City  count\n",
       "0           Columbia   7668\n",
       "1         Greenville   6142\n",
       "2        Spartanburg   2824\n",
       "3           Florence   2700\n",
       "4       Myrtle Beach   2355\n",
       "..               ...    ...\n",
       "308          Elliott      2\n",
       "309          Sheldon      1\n",
       "310  Mc Clellanville      1\n",
       "311     Mount Carmel      1\n",
       "312   Charleston AFB      1\n",
       "\n",
       "[313 rows x 2 columns]"
      ]
     },
     "execution_count": 50,
     "metadata": {},
     "output_type": "execute_result"
    }
   ],
   "source": [
    "south_carolina_cities=us_df.loc[us_df['State']=='SC']['City']\n",
    "sc_counts=south_carolina_cities.value_counts().reset_index()\n",
    "sc_counts.columns=['City','count']\n",
    "\n",
    "sc_counts"
   ]
  },
  {
   "cell_type": "code",
   "execution_count": 51,
   "id": "f4ad4a77",
   "metadata": {},
   "outputs": [
    {
     "data": {
      "text/plain": [
       "<Figure size 720x576 with 0 Axes>"
      ]
     },
     "metadata": {},
     "output_type": "display_data"
    },
    {
     "data": {
      "image/png": "[encoded data removed]",
      "text/plain": [
       "<Figure size 432x288 with 1 Axes>"
      ]
     },
     "metadata": {
      "needs_background": "light"
     },
     "output_type": "display_data"
    }
   ],
   "source": [
    "plt.figure(figsize=(10,8))\n",
    "#sns.barplot(x='count',y='City',data=sc_counts[:20])\n",
    "sc_counts[:20].plot(kind='barh')\n",
    "plt.show()"
   ]
  },
  {
   "cell_type": "markdown",
   "id": "893fac33",
   "metadata": {},
   "source": [
    "Columbia and Greenville cities  in South Carolina State is causing the surge in accidents in that State"
   ]
  },
  {
   "cell_type": "markdown",
   "id": "90c6075c",
   "metadata": {},
   "source": [
    "##Check the yearly trend on these cities"
   ]
  },
  {
   "cell_type": "code",
   "execution_count": null,
   "id": "2136230a",
   "metadata": {},
   "outputs": [],
   "source": []
  },
  {
   "cell_type": "markdown",
   "id": "6a94270b",
   "metadata": {},
   "source": [
    "## Start time"
   ]
  },
  {
   "cell_type": "code",
   "execution_count": 52,
   "id": "1813995d",
   "metadata": {},
   "outputs": [
    {
     "data": {
      "text/plain": [
       "0          2016-02-08 00:37:08\n",
       "4          2016-02-08 07:53:43\n",
       "7          2016-02-08 11:51:46\n",
       "9          2016-02-08 15:16:43\n",
       "10         2016-02-08 15:43:50\n",
       "                  ...         \n",
       "2845337    2019-08-23 18:03:25\n",
       "2845338    2019-08-23 19:11:30\n",
       "2845339    2019-08-23 19:00:21\n",
       "2845340    2019-08-23 19:00:21\n",
       "2845341    2019-08-23 18:52:06\n",
       "Name: Start_Time, Length: 2207325, dtype: object"
      ]
     },
     "execution_count": 52,
     "metadata": {},
     "output_type": "execute_result"
    }
   ],
   "source": [
    "us_df.Start_Time"
   ]
  },
  {
   "cell_type": "code",
   "execution_count": 53,
   "id": "eb36beef",
   "metadata": {},
   "outputs": [],
   "source": [
    "#change time to datetime object\n",
    "us_df.Start_Time=pd.to_datetime(us_df.Start_Time)"
   ]
  },
  {
   "cell_type": "markdown",
   "id": "b696cb81",
   "metadata": {},
   "source": [
    "### Year over year trend"
   ]
  },
  {
   "cell_type": "code",
   "execution_count": 56,
   "id": "7147800e",
   "metadata": {},
   "outputs": [
    {
     "name": "stderr",
     "output_type": "stream",
     "text": [
      "<ipython-input-56-3c6c8a3b6957>:1: UserWarning: Pandas doesn't allow columns to be created via a new attribute name - see https://pandas.pydata.org/pandas-docs/stable/indexing.html#attribute-access\n",
      "  us_df.Year=us_df.Start_Time.dt.year\n"
     ]
    },
    {
     "data": {
      "text/plain": [
       "2016"
      ]
     },
     "execution_count": 56,
     "metadata": {},
     "output_type": "execute_result"
    }
   ],
   "source": [
    "us_df.Year=us_df.Start_Time.dt.year\n",
    "us_df.Year[0]"
   ]
  },
  {
   "cell_type": "code",
   "execution_count": 58,
   "id": "480c173f",
   "metadata": {},
   "outputs": [
    {
     "data": {
      "text/plain": [
       "2021    1417339\n",
       "2020     573600\n",
       "2019     196132\n",
       "2018       9294\n",
       "2017       7490\n",
       "2016       3470\n",
       "Name: Start_Time, dtype: int64"
      ]
     },
     "execution_count": 58,
     "metadata": {},
     "output_type": "execute_result"
    }
   ],
   "source": [
    "accidents_per_year=us_df.Year.value_counts()\n",
    "accidents_per_year"
   ]
  },
  {
   "cell_type": "code",
   "execution_count": 60,
   "id": "9ee9622e",
   "metadata": {},
   "outputs": [
    {
     "data": {
      "text/plain": [
       "<AxesSubplot:>"
      ]
     },
     "execution_count": 60,
     "metadata": {},
     "output_type": "execute_result"
    },
    {
     "data": {
      "image/png": "[encoded data removed]",
      "text/plain": [
       "<Figure size 432x288 with 1 Axes>"
      ]
     },
     "metadata": {
      "needs_background": "light"
     },
     "output_type": "display_data"
    }
   ],
   "source": [
    "accidents_per_year.plot()"
   ]
  },
  {
   "cell_type": "markdown",
   "id": "06cab25d",
   "metadata": {},
   "source": [
    "The total number of accidents have been going up yearly"
   ]
  },
  {
   "cell_type": "markdown",
   "id": "f3faa9f5",
   "metadata": {},
   "source": [
    "### Which month are accidents?"
   ]
  },
  {
   "cell_type": "code",
   "execution_count": 61,
   "id": "fc9b07c7",
   "metadata": {},
   "outputs": [
    {
     "name": "stderr",
     "output_type": "stream",
     "text": [
      "<ipython-input-61-86595f20aa48>:1: UserWarning: Pandas doesn't allow columns to be created via a new attribute name - see https://pandas.pydata.org/pandas-docs/stable/indexing.html#attribute-access\n",
      "  us_df.Month=us_df.Start_Time.dt.month\n"
     ]
    },
    {
     "data": {
      "text/plain": [
       "2"
      ]
     },
     "execution_count": 61,
     "metadata": {},
     "output_type": "execute_result"
    }
   ],
   "source": [
    "us_df.Month=us_df.Start_Time.dt.month\n",
    "us_df.Month[0]"
   ]
  },
  {
   "cell_type": "code",
   "execution_count": 62,
   "id": "ea423ea1",
   "metadata": {},
   "outputs": [
    {
     "data": {
      "text/plain": [
       "<AxesSubplot:xlabel='Start_Time', ylabel='Count'>"
      ]
     },
     "execution_count": 62,
     "metadata": {},
     "output_type": "execute_result"
    },
    {
     "data": {
      "image/png": "[encoded data removed]",
      "text/plain": [
       "<Figure size 432x288 with 1 Axes>"
      ]
     },
     "metadata": {
      "needs_background": "light"
     },
     "output_type": "display_data"
    }
   ],
   "source": [
    "sns.histplot(us_df.Month)"
   ]
  },
  {
   "cell_type": "markdown",
   "id": "a742a867",
   "metadata": {},
   "source": [
    "### Which days of the week have the most accidents?"
   ]
  },
  {
   "cell_type": "code",
   "execution_count": 74,
   "id": "68e90fae",
   "metadata": {},
   "outputs": [
    {
     "name": "stderr",
     "output_type": "stream",
     "text": [
      "C:\\Users\\bibi ya chief\\AppData\\Roaming\\Python\\Python38\\site-packages\\seaborn\\distributions.py:2619: FutureWarning: `distplot` is a deprecated function and will be removed in a future version. Please adapt your code to use either `displot` (a figure-level function with similar flexibility) or `histplot` (an axes-level function for histograms).\n",
      "  warnings.warn(msg, FutureWarning)\n"
     ]
    },
    {
     "data": {
      "text/plain": [
       "<AxesSubplot:xlabel='Start_Time'>"
      ]
     },
     "execution_count": 74,
     "metadata": {},
     "output_type": "execute_result"
    },
    {
     "data": {
      "image/png": "[encoded data removed]",
      "text/plain": [
       "<Figure size 432x288 with 1 Axes>"
      ]
     },
     "metadata": {
      "needs_background": "light"
     },
     "output_type": "display_data"
    }
   ],
   "source": [
    "sns.distplot(us_df.Start_Time.dt.dayofweek,kde=False)"
   ]
  },
  {
   "cell_type": "markdown",
   "id": "924c715b",
   "metadata": {},
   "source": [
    "Accidents increase slightly from Monday to Friday(0-5) then decline on the weekend.As the workdays go from Monday to Friday, maybe people lose more focus on the road from work exhaustion"
   ]
  },
  {
   "cell_type": "markdown",
   "id": "88108864",
   "metadata": {},
   "source": [
    "### Distribution of accidents by hour"
   ]
  },
  {
   "cell_type": "code",
   "execution_count": 67,
   "id": "ab5b85df",
   "metadata": {},
   "outputs": [
    {
     "data": {
      "text/plain": [
       "<AxesSubplot:xlabel='Start_Time', ylabel='Count'>"
      ]
     },
     "execution_count": 67,
     "metadata": {},
     "output_type": "execute_result"
    },
    {
     "data": {
      "image/png": "[encoded data removed]",
      "text/plain": [
       "<Figure size 432x288 with 1 Axes>"
      ]
     },
     "metadata": {
      "needs_background": "light"
     },
     "output_type": "display_data"
    }
   ],
   "source": [
    "sns.histplot(us_df.Start_Time.dt.hour,bins=24)"
   ]
  },
  {
   "cell_type": "markdown",
   "id": "2dca7c73",
   "metadata": {},
   "source": [
    "There is a surge of accidents from 5a.m to 8 a.m, probably from people being in a hurry to get to work.\n",
    "An even higher surge happens from 12 pm to 5 pm.Maybe people already start leaving work from 12 and the accidents increase as more people leave work until 5p.m"
   ]
  },
  {
   "cell_type": "code",
   "execution_count": null,
   "id": "b03d1c29",
   "metadata": {},
   "outputs": [],
   "source": [
    "### Distribution of accidents during weekend(Sunday)"
   ]
  },
  {
   "cell_type": "code",
   "execution_count": 76,
   "id": "fbbb9c6b",
   "metadata": {},
   "outputs": [
    {
     "data": {
      "text/plain": [
       "<AxesSubplot:xlabel='Start_Time', ylabel='Count'>"
      ]
     },
     "execution_count": 76,
     "metadata": {},
     "output_type": "execute_result"
    },
    {
     "data": {
      "image/png": "[encoded data removed]",
      "text/plain": [
       "<Figure size 432x288 with 1 Axes>"
      ]
     },
     "metadata": {
      "needs_background": "light"
     },
     "output_type": "display_data"
    }
   ],
   "source": [
    "sunday_accidents=us_df.Start_Time[us_df.Start_Time.dt.dayofweek==6]\n",
    "sns.histplot(sunday_accidents.dt.hour)"
   ]
  },
  {
   "cell_type": "markdown",
   "id": "1668ab98",
   "metadata": {},
   "source": [
    "Most accidents are during the afternoon and early evening(12-18), probably from people travelling for entertainment or shopping"
   ]
  },
  {
   "cell_type": "code",
   "execution_count": 78,
   "id": "4dff5260",
   "metadata": {},
   "outputs": [
    {
     "data": {
      "text/plain": [
       "<AxesSubplot:xlabel='Start_Time', ylabel='Count'>"
      ]
     },
     "execution_count": 78,
     "metadata": {},
     "output_type": "execute_result"
    },
    {
     "data": {
      "image/png": "[encoded data removed]",
      "text/plain": [
       "<Figure size 432x288 with 1 Axes>"
      ]
     },
     "metadata": {
      "needs_background": "light"
     },
     "output_type": "display_data"
    }
   ],
   "source": [
    "monday_accidents=us_df.Start_Time[us_df.Start_Time.dt.dayofweek==0]\n",
    "sns.histplot(monday_accidents.dt.hour)"
   ]
  },
  {
   "cell_type": "markdown",
   "id": "f659f642",
   "metadata": {},
   "source": [
    "The weekdays accident trend is for early morning and afternoon"
   ]
  },
  {
   "cell_type": "markdown",
   "id": "352bd7d5",
   "metadata": {},
   "source": [
    "## Visibility"
   ]
  },
  {
   "cell_type": "code",
   "execution_count": 97,
   "id": "002e0429",
   "metadata": {},
   "outputs": [
    {
     "data": {
      "text/plain": [
       "10.0    1766843\n",
       "7.0       61696\n",
       "9.0       56574\n",
       "8.0       45690\n",
       "5.0       43120\n",
       "6.0       40337\n",
       "2.0       40318\n",
       "4.0       37439\n",
       "3.0       36327\n",
       "1.0       35235\n",
       "0.25      10829\n",
       "0.5       10260\n",
       "Name: Visibility(mi), dtype: int64"
      ]
     },
     "execution_count": 97,
     "metadata": {},
     "output_type": "execute_result"
    }
   ],
   "source": [
    "accidents_by_visibility=us_df['Visibility(mi)'].astype('str').value_counts()\n",
    "accidents_by_visibility[:12]"
   ]
  },
  {
   "cell_type": "code",
   "execution_count": 98,
   "id": "24843aad",
   "metadata": {},
   "outputs": [
    {
     "data": {
      "text/plain": [
       "<AxesSubplot:ylabel='Visibility(mi)'>"
      ]
     },
     "execution_count": 98,
     "metadata": {},
     "output_type": "execute_result"
    },
    {
     "data": {
      "image/png": "[encoded data removed]",
      "text/plain": [
       "<Figure size 432x288 with 1 Axes>"
      ]
     },
     "metadata": {
      "needs_background": "light"
     },
     "output_type": "display_data"
    }
   ],
   "source": [
    "sns.barplot(x=accidents_by_visibility[:12].index,y=accidents_by_visibility[:12])"
   ]
  },
  {
   "cell_type": "markdown",
   "id": "54395bf2",
   "metadata": {},
   "source": [
    "The plot shows that most of the accidents occurred when visibility was high, which means that visibility is not a significant concern when it comes to accidents. It means low visibility is not the only weather factor."
   ]
  },
  {
   "cell_type": "code",
   "execution_count": 125,
   "id": "02faf550",
   "metadata": {},
   "outputs": [
    {
     "data": {
      "text/plain": [
       "Fair                       1042415\n",
       "Cloudy                      334793\n",
       "Mostly Cloudy               285317\n",
       "Partly Cloudy               195367\n",
       "Light Rain                  106754\n",
       "Light Snow                   40157\n",
       "Fog                          37214\n",
       "Haze                         29095\n",
       "Rain                         24802\n",
       "Fair / Windy                 14483\n",
       "Heavy Rain                    9847\n",
       "Thunder in the Vicinity       6739\n",
       "Cloudy / Windy                6532\n",
       "T-Storm                       6338\n",
       "Mostly Cloudy / Windy         6183\n",
       "Smoke                         5971\n",
       "Thunder                       5922\n",
       "Light Drizzle                 5696\n",
       "Light Rain with Thunder       5218\n",
       "Snow                          4635\n",
       "Name: Weather_Condition, dtype: int64"
      ]
     },
     "execution_count": 125,
     "metadata": {},
     "output_type": "execute_result"
    }
   ],
   "source": [
    "accidents_by_weather=us_df['Weather_Condition'].value_counts()\n",
    "accidents_by_weather[:20]"
   ]
  },
  {
   "cell_type": "code",
   "execution_count": 102,
   "id": "6ca33e7a",
   "metadata": {},
   "outputs": [
    {
     "data": {
      "image/png": "[encoded data removed]",
      "text/plain": [
       "<Figure size 432x288 with 1 Axes>"
      ]
     },
     "metadata": {
      "needs_background": "light"
     },
     "output_type": "display_data"
    }
   ],
   "source": [
    "plt.xticks(rotation=90)\n",
    "sns.barplot(x=accidents_by_weather[:12].index,y=accidents_by_weather[:12])\n",
    "plt.show()"
   ]
  },
  {
   "cell_type": "markdown",
   "id": "ea3cabdf",
   "metadata": {},
   "source": [
    "The plot depicts that the weather condition for most of the accidents was Fair, followed by cloudy and mostly cloudy.Cloudy are reasonable factors for accidents unlike Fair, which means that weather conditions also does not play an important role"
   ]
  },
  {
   "cell_type": "markdown",
   "id": "542d0190",
   "metadata": {},
   "source": [
    "## Road Conditions"
   ]
  },
  {
   "cell_type": "code",
   "execution_count": 110,
   "id": "31ad720e",
   "metadata": {},
   "outputs": [
    {
     "data": {
      "text/html": [
       "<div>\n",
       "<style scoped>\n",
       "    .dataframe tbody tr th:only-of-type {\n",
       "        vertical-align: middle;\n",
       "    }\n",
       "\n",
       "    .dataframe tbody tr th {\n",
       "        vertical-align: top;\n",
       "    }\n",
       "\n",
       "    .dataframe thead th {\n",
       "        text-align: right;\n",
       "    }\n",
       "</style>\n",
       "<table border=\"1\" class=\"dataframe\">\n",
       "  <thead>\n",
       "    <tr style=\"text-align: right;\">\n",
       "      <th></th>\n",
       "      <th>Bump</th>\n",
       "      <th>Crossing</th>\n",
       "      <th>Give_Way</th>\n",
       "      <th>Junction</th>\n",
       "      <th>No_Exit</th>\n",
       "      <th>Railway</th>\n",
       "      <th>Roundabout</th>\n",
       "      <th>Station</th>\n",
       "      <th>Stop</th>\n",
       "      <th>Traffic_Calming</th>\n",
       "      <th>Traffic_Signal</th>\n",
       "      <th>Turning_Loop</th>\n",
       "    </tr>\n",
       "  </thead>\n",
       "  <tbody>\n",
       "    <tr>\n",
       "      <th>0</th>\n",
       "      <td>False</td>\n",
       "      <td>False</td>\n",
       "      <td>False</td>\n",
       "      <td>False</td>\n",
       "      <td>False</td>\n",
       "      <td>False</td>\n",
       "      <td>False</td>\n",
       "      <td>False</td>\n",
       "      <td>False</td>\n",
       "      <td>False</td>\n",
       "      <td>False</td>\n",
       "      <td>False</td>\n",
       "    </tr>\n",
       "    <tr>\n",
       "      <th>4</th>\n",
       "      <td>False</td>\n",
       "      <td>False</td>\n",
       "      <td>False</td>\n",
       "      <td>False</td>\n",
       "      <td>False</td>\n",
       "      <td>False</td>\n",
       "      <td>False</td>\n",
       "      <td>False</td>\n",
       "      <td>False</td>\n",
       "      <td>False</td>\n",
       "      <td>False</td>\n",
       "      <td>False</td>\n",
       "    </tr>\n",
       "    <tr>\n",
       "      <th>7</th>\n",
       "      <td>False</td>\n",
       "      <td>False</td>\n",
       "      <td>False</td>\n",
       "      <td>True</td>\n",
       "      <td>False</td>\n",
       "      <td>False</td>\n",
       "      <td>False</td>\n",
       "      <td>False</td>\n",
       "      <td>False</td>\n",
       "      <td>False</td>\n",
       "      <td>False</td>\n",
       "      <td>False</td>\n",
       "    </tr>\n",
       "    <tr>\n",
       "      <th>9</th>\n",
       "      <td>False</td>\n",
       "      <td>False</td>\n",
       "      <td>False</td>\n",
       "      <td>False</td>\n",
       "      <td>False</td>\n",
       "      <td>False</td>\n",
       "      <td>False</td>\n",
       "      <td>False</td>\n",
       "      <td>False</td>\n",
       "      <td>False</td>\n",
       "      <td>False</td>\n",
       "      <td>False</td>\n",
       "    </tr>\n",
       "    <tr>\n",
       "      <th>10</th>\n",
       "      <td>False</td>\n",
       "      <td>False</td>\n",
       "      <td>False</td>\n",
       "      <td>False</td>\n",
       "      <td>False</td>\n",
       "      <td>False</td>\n",
       "      <td>False</td>\n",
       "      <td>False</td>\n",
       "      <td>False</td>\n",
       "      <td>False</td>\n",
       "      <td>False</td>\n",
       "      <td>False</td>\n",
       "    </tr>\n",
       "  </tbody>\n",
       "</table>\n",
       "</div>"
      ],
      "text/plain": [
       "     Bump  Crossing  Give_Way  Junction  No_Exit  Railway  Roundabout  \\\n",
       "0   False     False     False     False    False    False       False   \n",
       "4   False     False     False     False    False    False       False   \n",
       "7   False     False     False      True    False    False       False   \n",
       "9   False     False     False     False    False    False       False   \n",
       "10  False     False     False     False    False    False       False   \n",
       "\n",
       "    Station   Stop  Traffic_Calming  Traffic_Signal  Turning_Loop  \n",
       "0     False  False            False           False         False  \n",
       "4     False  False            False           False         False  \n",
       "7     False  False            False           False         False  \n",
       "9     False  False            False           False         False  \n",
       "10    False  False            False           False         False  "
      ]
     },
     "execution_count": 110,
     "metadata": {},
     "output_type": "execute_result"
    }
   ],
   "source": [
    "road_conditions=us_df.loc[:,'Bump':'Turning_Loop']\n",
    "road_conditions.head()"
   ]
  },
  {
   "cell_type": "code",
   "execution_count": 115,
   "id": "36bf6918",
   "metadata": {},
   "outputs": [
    {
     "data": {
      "text/plain": [
       "Traffic_Signal     213116\n",
       "Junction           183444\n",
       "Crossing           170607\n",
       "Station             59373\n",
       "Stop                42969\n",
       "Railway             17898\n",
       "Give_Way             5318\n",
       "No_Exit              3577\n",
       "Traffic_Calming      1473\n",
       "Bump                  908\n",
       "Roundabout            101\n",
       "Turning_Loop            0\n",
       "dtype: int64"
      ]
     },
     "execution_count": 115,
     "metadata": {},
     "output_type": "execute_result"
    }
   ],
   "source": [
    "road_conditions_sum=road_conditions.sum().sort_values(ascending=False)\n",
    "road_conditions_sum"
   ]
  },
  {
   "cell_type": "code",
   "execution_count": 117,
   "id": "52447744",
   "metadata": {},
   "outputs": [
    {
     "data": {
      "image/png": "[encoded data removed]",
      "text/plain": [
       "<Figure size 432x288 with 1 Axes>"
      ]
     },
     "metadata": {
      "needs_background": "light"
     },
     "output_type": "display_data"
    }
   ],
   "source": [
    "plt.xticks(rotation=90)\n",
    "sns.barplot(x=road_conditions_sum.index,y=road_conditions_sum)\n",
    "plt.show()"
   ]
  },
  {
   "cell_type": "markdown",
   "id": "4dd27063",
   "metadata": {},
   "source": [
    "Most accidents happen at a traffic signal, junction and at a crossing. Could be from lack of proper knowlegde on how to observe and interprete traffic signals, lack of knowlegdge of drivimng at a crossing or junction. Maybe ask driving schools to concentrate more on making learners understand the importance of these three things"
   ]
  },
  {
   "cell_type": "markdown",
   "id": "390a7ed9",
   "metadata": {},
   "source": [
    "## Severity by day of week"
   ]
  },
  {
   "cell_type": "code",
   "execution_count": 128,
   "id": "460fb254",
   "metadata": {},
   "outputs": [
    {
     "data": {
      "text/html": [
       "<div>\n",
       "<style scoped>\n",
       "    .dataframe tbody tr th:only-of-type {\n",
       "        vertical-align: middle;\n",
       "    }\n",
       "\n",
       "    .dataframe tbody tr th {\n",
       "        vertical-align: top;\n",
       "    }\n",
       "\n",
       "    .dataframe thead th {\n",
       "        text-align: right;\n",
       "    }\n",
       "</style>\n",
       "<table border=\"1\" class=\"dataframe\">\n",
       "  <thead>\n",
       "    <tr style=\"text-align: right;\">\n",
       "      <th></th>\n",
       "      <th>Severity</th>\n",
       "      <th>Start_Time</th>\n",
       "    </tr>\n",
       "  </thead>\n",
       "  <tbody>\n",
       "    <tr>\n",
       "      <th>0</th>\n",
       "      <td>3</td>\n",
       "      <td>2016-02-08 00:37:08</td>\n",
       "    </tr>\n",
       "    <tr>\n",
       "      <th>4</th>\n",
       "      <td>3</td>\n",
       "      <td>2016-02-08 07:53:43</td>\n",
       "    </tr>\n",
       "    <tr>\n",
       "      <th>7</th>\n",
       "      <td>2</td>\n",
       "      <td>2016-02-08 11:51:46</td>\n",
       "    </tr>\n",
       "    <tr>\n",
       "      <th>9</th>\n",
       "      <td>2</td>\n",
       "      <td>2016-02-08 15:16:43</td>\n",
       "    </tr>\n",
       "    <tr>\n",
       "      <th>10</th>\n",
       "      <td>2</td>\n",
       "      <td>2016-02-08 15:43:50</td>\n",
       "    </tr>\n",
       "  </tbody>\n",
       "</table>\n",
       "</div>"
      ],
      "text/plain": [
       "    Severity          Start_Time\n",
       "0          3 2016-02-08 00:37:08\n",
       "4          3 2016-02-08 07:53:43\n",
       "7          2 2016-02-08 11:51:46\n",
       "9          2 2016-02-08 15:16:43\n",
       "10         2 2016-02-08 15:43:50"
      ]
     },
     "execution_count": 128,
     "metadata": {},
     "output_type": "execute_result"
    }
   ],
   "source": [
    "df=us_df.loc[:,['Severity','Start_Time']]\n",
    "df.head()"
   ]
  },
  {
   "cell_type": "code",
   "execution_count": 133,
   "id": "da97767c",
   "metadata": {},
   "outputs": [
    {
     "data": {
      "text/plain": [
       "<AxesSubplot:xlabel='Start_Time', ylabel='count'>"
      ]
     },
     "execution_count": 133,
     "metadata": {},
     "output_type": "execute_result"
    },
    {
     "data": {
      "image/png": "[encoded data removed]",
      "text/plain": [
       "<Figure size 432x288 with 1 Axes>"
      ]
     },
     "metadata": {
      "needs_background": "light"
     },
     "output_type": "display_data"
    }
   ],
   "source": [
    "sns.countplot(x=df.Start_Time.dt.dayofweek,hue=df.Severity.astype('str'))"
   ]
  },
  {
   "cell_type": "code",
   "execution_count": null,
   "id": "e34a8b14",
   "metadata": {},
   "outputs": [],
   "source": []
  }
 ],
 "metadata": {
  "kernelspec": {
   "display_name": "Python 3",
   "language": "python",
   "name": "python3"
  },
  "language_info": {
   "codemirror_mode": {
    "name": "ipython",
    "version": 3
   },
   "file_extension": ".py",
   "mimetype": "text/x-python",
   "name": "python",
   "nbconvert_exporter": "python",
   "pygments_lexer": "ipython3",
   "version": "3.8.8"
  }
 },
 "nbformat": 4,
 "nbformat_minor": 5
}
